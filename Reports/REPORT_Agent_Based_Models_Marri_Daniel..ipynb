{
 "cells": [
  {
   "cell_type": "markdown",
   "metadata": {},
   "source": [
    "# <center>Using Agent Based Models in Systems Biology</center>\n",
    "\n",
    "<center>by Marri Daniel</center>"
   ]
  },
  {
   "cell_type": "markdown",
   "metadata": {},
   "source": [
    "Introduction\n",
    "------------"
   ]
  },
  {
   "cell_type": "markdown",
   "metadata": {},
   "source": [
    "\n",
    "\n",
    "Agent-based modeling and simulation is an effective and a powerful technique for simulating and investigating phenomena that includes a large set of active components represented by agents. The gents are actors working in a genuine system that affects the simulated environment and impacted by the simulated environment. Agents are used in the simulation model as model components performing autonomous acts and communicating with other agents and the virtual environment to represent activities in the real world. ABMS permits the researchers an experimental experience to investigate, examine and describe the relationship between the synthetic and the real world [1].\n",
    "\n",
    "Agent-based modeling and simulation (ABMS) method has benefit in clarification of the dynamics of the conduct in the complicated systems which includes biological, physical, and social systems. ABMS which is used in the answer or modeling of a hassle in the literature seems to be stimulated via living systems. Living systems offer an enterprise and operation at unique stages ranging from the genetic to the social experience. The most common applications that can be shown in living structures are biological systems including human physiology which have a look at important systems such as cardiovascular system, immune system, worried system, endocrine system, and predator-prey relationship in the ecosystem, birds and fish flocks, organisms that stay in colonies such as foraging ants, bees, wasps, and termites [2]."
   ]
  },
  {
   "cell_type": "markdown",
   "metadata": {},
   "source": [
    "Agent Based Models in Systems Biology\n",
    "---------------------------------------------------------"
   ]
  },
  {
   "cell_type": "markdown",
   "metadata": {},
   "source": [
    "With advances in computing, agent-based models (ABMs) have come to be a feasible and attractive tool to find out about biological systems. ABMs are seeing multiplied incorporation into both the biology and mathematics school rooms as effective modeling tools to study approaches involving extensive amounts of stochasticity, nonlinear interactions, and/or heterogeneous spatial structures.Typical ABMs contain three elements: agents, an environment, and rules governing each agent’s behavior and its local interactions with other agents and with the environment [3]. Numerous reviews and research efforts using ABMs have focused on specific biomedical systems. Issues of gene expression, morphogenetic and developmental processes, modeling of tissue mechanics and microvasculature, inflammation, wound healing and immune responses. Expirementalist uses ABMs to model cancer growth, tuberculosis, and schistosomiasis, to analyze biofilm dynamicsuse in pharmacology. In this report, we explore on two of the ABMs used in the area of system biology."
   ]
  },
  {
   "cell_type": "markdown",
   "metadata": {},
   "source": [
    "Gene Expression using ABMs\n",
    "-------------------------\n",
    "\n",
    "Cell-to-cell heterogeneity is driven with the aid of stochasticity in intracellular reactions and the populace dynamics. While these sources are commonly studied separately, there ia a need for a  strengthen agent-based framework that accounts for each factors whilst tracking each single cell of a growing population. Apart from the frequent intrinsic variability, the framework also predicts extrinsic noise besides the need to introduce fluctuating fee constants. Instead, extrinsic fluctuations are defined with the aid of cellphone cycle fluctuations and differences in cell age. Furnish specific formulas were used  to quantify suggest molecule numbers, intrinsic and extrinsic noise information in two-colour experiments. It was then revealled that these data fluctuate notably depending on the experimental setup used to have a look at the cells. This fact was illustrated with the usage of (i) averages over an remoted cellphone lineage tracked over many generations as found in the mother machine, (ii) population snapshots with recognised phone ages as recorded in time-lapse microscopy, and (iii) snapshots with unknown telephone ages as measured from static photos or drift cytometry. Applying the technique to fashions of stochastic gene expression and comments rules elucidates that remoted lineages, as in contrast to photograph data, can substantially overestimate the imply variety of molecules, overestimate extrinsic noise but underestimate intrinsic noise and have qualitatively one-of-a-kind sensitivities to mobile cycle fluctuations [4]."
   ]
  },
  {
   "cell_type": "markdown",
   "metadata": {},
   "source": [
    "Cancer Growth Modeling  using ABMs\n",
    "-----------------------------------------\n",
    "There have been many methods developed in current years to in silico model a range of most cancers behaviors. Agent-based modeling is a particular discrete-based hybrid modeling strategy that approves simulating the position of range in mobile populations as well as inside each individual cell; it has therefore end up a powerful modeling method widely used by using computational most cancers researchers. Many factors of tumor morphology which include phenotype-changing mutations, the adaptation to microenvironment, the manner of angiogenesis, the impact of extracellular matrix, reactions to chemotherapy or surgical intervention, the results of oxygen and nutrient availability, and metastasis and invasion of healthy tissues have been included and investigated in agent-based models [5]. In hybrid ABM, solely the most necessary micro-scale effects are modeled, while outcomes that can be approximated the use of continuum descriptions are described the use of PDEs and solved throughout the complete tumor rather than at each agent individually. Parameters inclusive of oxygen diffusion, nutrient diffusion, and hormonal distribution are often modeled via diffusion from molecularly wealthy regions (i.e., sources) such as vascularization or the side of the tumor. It is often only quintessential to discretize part of the tumor location [6]. The ABMs models in detecting cancer growth are applied in Molecular signaling, Cellular metabolism, Mutation-induced phenotypic changes, Angiogenesis, Microenvironment, Metastasis and Cancer stem cells detection.  \n"
   ]
  },
  {
   "cell_type": "markdown",
   "metadata": {},
   "source": [
    "Conclusion\n",
    "-----\n",
    "\n",
    "Rapid advances in computing strength over the past many years have made agent-based modeling a possible and attractive tool to learn about biological systems. ABMs can be used to interact students in hypothesis checking out and in the experimental layout and statistics collection techniques of otherwise infeasible experiments, and to enable students to make use of models as a phase of the scientific process. All of this can be completed except students having to study a programming language. Biological applications are perfect systems for first attempts at agent-based models as they commonly do now not necessitate gaining knowledge of good sized new vocabulary and principle to recognize the basic aspects that need to be blanketed in the model."
   ]
  },
  {
   "cell_type": "markdown",
   "metadata": {},
   "source": [
    "References\n",
    "--------------\n",
    "\n",
    "[1] DeAngelis, D. L., & Grimm, V. (2014). Individual-based models in ecology after four decades. F1000prime reports, 6.\n",
    "\n",
    "[2] Di Marzo Serugendo G, Gleizes M-P, Karageorgos A, editors. Self -Organising Software From Natural to Artificial Adaptation. London New York: Springer Heidelberg Dordrecht; 2011. 462 p. DOI: 10.1007/978-3-642 -17348-6\n",
    "\n",
    "[3] Bodine, E.N., Panoff, R.M., Voit, E.O. et al. Agent-Based Modeling and Simulation in Mathematics and Biology Education. Bull Math Biol 82, 101 (2020). https://doi.org/10.1007/s11538-020-00778-z\n",
    "\n",
    "[4] Thomas, P. Intrinsic and extrinsic noise of gene expression in lineage trees. Sci Rep 9, 474 (2019). https://doi.org/10.1038/s41598-018-35927-x\n",
    "\n",
    "[5] Cisse PA, Dembele JM, Lo M, Cambier C (2013) Assessing the spatial impact on an agent-based modeling of epidemic control: case of schistosomiasis. Complex Sci 126:58–69. https://doi.org/10.1007/978-3-319-03473-7_6\n",
    "\n",
    "[6] Z. Wang, T.S. Deisboeck Computational modeling of brain tumors: discrete, continuum or hybrid\n",
    "Sci Model Simul, 15 (2008), pp. 381-393.\n",
    "\n",
    "\n",
    "\n",
    "\n"
   ]
  },
  {
   "cell_type": "code",
   "execution_count": null,
   "metadata": {},
   "outputs": [],
   "source": []
  }
 ],
 "metadata": {
  "kernelspec": {
   "display_name": "Python 3",
   "language": "python",
   "name": "python3"
  },
  "language_info": {
   "codemirror_mode": {
    "name": "ipython",
    "version": 3
   },
   "file_extension": ".py",
   "mimetype": "text/x-python",
   "name": "python",
   "nbconvert_exporter": "python",
   "pygments_lexer": "ipython3",
   "version": "3.7.3"
  }
 },
 "nbformat": 4,
 "nbformat_minor": 2
}
