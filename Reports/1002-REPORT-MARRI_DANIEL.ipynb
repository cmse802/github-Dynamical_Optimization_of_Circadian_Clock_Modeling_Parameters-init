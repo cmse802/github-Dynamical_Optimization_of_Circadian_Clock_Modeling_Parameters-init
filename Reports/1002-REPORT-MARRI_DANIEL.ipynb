{
 "cells": [
  {
   "cell_type": "markdown",
   "metadata": {},
   "source": [
    "# <center>Using Statistical Models in Circadian Clock Modeling</center>\n",
    "\n",
    "<center>by Marri Daniel</center>"
   ]
  },
  {
   "cell_type": "markdown",
   "metadata": {},
   "source": [
    "# <center>Introduction</center>\n",
    "\n",
    "Circadian rhythms are partially endogenous cycles in biological processes that repeat in roughly 24-h intervals.  In spite of the fact that circadian oscillation is only one of the cyclic processes in organisms, it is often studied as an independent process.[1].  Statistical models are used in the identification of rhythmic expression from metabolioc cycles to circadian rhythm. This identification is importand for undestanding the gene regulatory networks and functions functions of these biological processes. There have been two recent leading statistical models algorithm that has been developed to estimate the periodicity of rythmic gene expression and so circadian clock genes. These algorithms are the JTK-CYCLE algorithm [3] and the Autoregressive Baysian Spectra Regression algorithm (ABSR) [2]. "
   ]
  },
  {
   "cell_type": "markdown",
   "metadata": {},
   "source": [
    "# <center>The JTK CYCLE ALGORITHM [3] </center>\n",
    "\n",
    "Jonckheere-Terpstra-Kendall CYCLE ()JTK-CYCLE) is used to efficiently identify and characterize cycling variables in large dataset. The algorithm is also used to distinguished between\n",
    "rhythmic and non-rhythmic transcript more reliable and efficiently. JTK-CYCLE accurately\n",
    "measures the period, phase, and amplitude of cycling transcripts, facilitating downstream analyses. The JTK-CYCLE algorithm is a combination of two statistical methods:The JonckheereTerpstra (JT) test which is a non-parametric test that is most powerful for detecting monotonic\n",
    "orderings of data across ordered independent groups and Kendall’s tau measure of rank correlation that is used to measure the association between two measured quantities. The JonckheereTerpstra-Kendall (JTK) algorithm applies the JT test to a family of alternative hypothesized\n",
    "group orderings, while keeping the group sizes fixed. For enhanced computational efficiency,\n",
    "these tests are performed by utilizing the mathematical equivalence between the exact null JT\n",
    "distribution and the exact null distribution of Kendall’s tau correlation between a continuous\n",
    "random variate and an ordinal grouping factor. In effect, the JTK-CYCLE algorithm finds the\n",
    "optimal combination of period and phase that minimizes the exact p-value of Kendall’s tau correlation between an experimental time series and each tested cyclical ordering where the group\n",
    "oderings are derived from the cosine curve. The optimal periods and phases found by JTKCYCLE are highly resistant to outliers, because Kendall’s tau depends only on the signs of the\n",
    "inter-group differences between pairs of values. JTK-CYCLE estimates the amplitude of each\n",
    "optimal cyclical pattern by calculating the one-cycle median sign-adjusted deviation from the\n",
    "median (msad), where each sign-adjusted deviation equals the product of the deviation and the\n",
    "associated sign of the optimal cosine pattern. For a perfect cosine pattern with amplitude A,\n",
    "the one-cycle msad equals the mad (median absolute deviation from the median) which in turn\n",
    "equals $\\dfrac{A}{2}$.\n",
    "\n"
   ]
  },
  {
   "cell_type": "markdown",
   "metadata": {},
   "source": [
    "# <center>The Autoregressive Baysian Spectra Regression algorithm (ABSR)  ALGORITHM  [2] </center>\n",
    "\n",
    "The Autoregressive Bayesian Spectral Regression (ABSR) model\n",
    "estimates period of time-course experimental data and classifies gene expression profiles into\n",
    "multiple rhythmic categories simultaneously. Through the simulation studies, it is shown that\n",
    "ABSR substantially improves the accuracy of periodicity estimation and clustering of rhythmic\n",
    "categories for the data with low temporal resolution. Moreover, ABSR is insensitive to rhythmic\n",
    "patterns.\n",
    "Given $N$ observed genes at different time points, the raw data is standardized by using the standard error of the data. A linear regression model is then fitted to remove the trend from the standardized dataset which the Savitzky-Golat (S-G) smoothing filter is applied to remove the noise without much baising the data. An Autoregression model of order (d) is then fitted to the dataset and their spectra frequencies are obtained using spectra analysis. These spectra frequencies are then used to estimate the period and classify these genes into Arrhythmic, ultradian and circadian.  "
   ]
  },
  {
   "cell_type": "markdown",
   "metadata": {},
   "source": [
    "Through the simulation studies, it is shown that ABSR substantially improves the accuracy of periodicity estimation and clustering of rhythmic categories as compared to JTK_CYCLE and ARSER for the data with low temporal resolution. Moreover, ABSR is insensitive to rhythmic patterns. This new scheme is applied to existing time-course mouse liver data to estimate period of rhythms and classify the genes into ultradian, circadian, and arrhythmic categories. It is observed that 49.2% of the circadian profiles detected by JTK_CYCLE with 1-hour resolution are also detected by ABSR with only 4-hour resolution."
   ]
  },
  {
   "cell_type": "markdown",
   "metadata": {},
   "source": [
    "[1] Gillette MU, Sejnowski TJ. Biological clocks coordinately keep life on time. Science. 2005;309:1196–1198.\n",
    "\n",
    "[2] Ren, Y., Hong, C. I., Lim, S., & Song, S. (2016). Finding clocks in genes: a Bayesian approach to estimate periodicity. BioMed Research International, 2016.\n",
    "\n",
    "[3] Hughes, M. E., Hogenesch, J. B., & Kornacker, K. (2010). JTK_CYCLE: an efficient nonparametric algorithm for detecting rhythmic components in genome-scale data sets. Journal of biological rhythms, 25(5), 372-380.\n",
    "\n"
   ]
  },
  {
   "cell_type": "code",
   "execution_count": null,
   "metadata": {},
   "outputs": [],
   "source": []
  },
  {
   "cell_type": "code",
   "execution_count": null,
   "metadata": {},
   "outputs": [],
   "source": []
  }
 ],
 "metadata": {
  "kernelspec": {
   "display_name": "Python 3",
   "language": "python",
   "name": "python3"
  },
  "language_info": {
   "codemirror_mode": {
    "name": "ipython",
    "version": 3
   },
   "file_extension": ".py",
   "mimetype": "text/x-python",
   "name": "python",
   "nbconvert_exporter": "python",
   "pygments_lexer": "ipython3",
   "version": "3.7.3"
  }
 },
 "nbformat": 4,
 "nbformat_minor": 2
}
