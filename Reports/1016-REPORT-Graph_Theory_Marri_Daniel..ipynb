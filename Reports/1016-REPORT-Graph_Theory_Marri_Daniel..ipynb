{
 "cells": [
  {
   "cell_type": "markdown",
   "metadata": {},
   "source": [
    "# <center>Using Graph Theory in Systems Biology (Biological Networks)</center>\n",
    "\n",
    "<center>by Daniel Marri</center>"
   ]
  },
  {
   "cell_type": "markdown",
   "metadata": {},
   "source": [
    "Introduction\n",
    "=========="
   ]
  },
  {
   "cell_type": "markdown",
   "metadata": {},
   "source": [
    "Complex network systems palys a vital part in a wide variety of disciplines, extending from communications, finance, health  to molecular  and population biology. There is then the need to investigate these systems, not only as individual components but as a whole. The focus on this report is on graph theory methods that are used in systems Biology (Biologigal Networks) [1].\n",
    "\n",
    "There are several biological domains where graph theory techniques are applied for knowledge extraction from data. Within the field of biology, potential applications of graph theory network analysis include for example drug target identification, determining a protein's or gene's function, designing effective strategies for treating various diseases or providing early diagnosis of disorders. Protein-protein interaction (PPI) networks, biochemical networks, transcriptional regulation networks, signal transduction or metabolic networks are the highlighted network categories in systems biology often sharing characteristics and properties.\n",
    "\n"
   ]
  },
  {
   "cell_type": "markdown",
   "metadata": {},
   "source": [
    "Graph Theory Methods\n",
    "============"
   ]
  },
  {
   "cell_type": "markdown",
   "metadata": {},
   "source": [
    "\n",
    "$\\large{Protein-Protein\\;Interaction \\;(PPI)\\; networks}$ : This basically hold information of how various proteins work in a joint effort with others to empower the organic cycles inside the cell. Regardless of the way that for most of proteins the total grouping is now known, their molecular functions  isn't yet completely understood. These protein-protein interactions (PPIs) networks are commonly represented by undirected graph format, with nodes corresponding to proteins and edges corresponding to protein-protein interactions. The volume of experimental data on protein-protein interactions is rapidly increasing by high-throughput techniques improvements which are able to produce large batches of PPIs. For example, yeast contains over 6,000 proteins, and currently over 78,000 PPIs have been identified between the yeast proteins, with hundreds of labs around the world adding to this list constantly. Humans are expected to have around 120000 proteins and around 106 PPIs. The relationships between the structure of a PPI network and a cellular function are waited to be explored [2,3].\n",
    "Understanding communications between proteins in a cell may profit by a model of a PPIs organization. A full depiction of protein association networks requires a perplexing model that would include the undirected physical protein-protein communications, different sorts of cooperations, collaboration certainty level, or strategy and variety of a connection, directional pathway data, transient data on the presence or nonattendance of PPIs, and data on the quality of the connections. This may be achieved by designing a scoring function and assigning weights to nodes and edges of a PPIs network."
   ]
  },
  {
   "cell_type": "markdown",
   "metadata": {},
   "source": [
    "$\\large{Transcriptional\\; regulatory \\; networks}$ : This contain information on the regulation of gene expression in cells. This mechanism is modulated by a variety of variables, such as transcription factors, post-translational modifications or interaction with other biomolecules [4].  Usually, these networks use a directed graph representation in an effort to model the way that proteins and other biological molecules are involved in gene expression and try to imitate the series of events that take place in different stages of the process. Here, nodes correspond to individual genes and a directed edge is drawn from gene A to gene B if A positively or negatively regulates gene B [5]. One of the drawbacks of graph theory applications in the field of biochemical networks is the static quality of graphs. Biochemical networks are complex, and the abstraction of graphs can obscure the temporal dimensions of information flow. The nodes and connections of biochemical networks are evolving over time. However, the statistical graphic representation of the system is a prerequisite for the creation of detailed dynamic models [6]."
   ]
  },
  {
   "cell_type": "markdown",
   "metadata": {},
   "source": [
    "$\\large{Metabolic\\; and\\; biochemical\\; networks}$ : They are powerful methods for the study and simulation of metabolism in different organisms. As metabolic pathways, we consider a sequence of chemical reactions occurring within a cell at different times. Enzymes play a vital role in the metabolic network as they are the main determinants of biochemical catalyzing reactions [7].  Metabolic networks generally require more complex representations, such as hyper-graphs, as reactions in metabolic networks generally convert multiple inputs into and multiple outputs with the help of other components. An alternative is a weighted bipartite graph to reduce representation for a metabolic network. In such graphs, two types of nodes are used to represent reactions and compounds, respectively. The edges in a weighted bipartite graph connect nodes of different types, representing either substrate or product relationships. These networks can represent the complete set of metabolic and physical processes that determine the physiological and biochemical properties of a cell. Metabolic networks are complex. There are many kinds of nodes (proteins, particles, molecules) and many connections (interactions) in such networks. Even if one can define sub-networks that can be meaningfully described in relative isolation, there are always connections from it to other networks.\n",
    "\n"
   ]
  },
  {
   "cell_type": "markdown",
   "metadata": {},
   "source": [
    "[1] Boyarsky, L.L.: Neural net analogs of rhythmic activity in the nervous system. Cur-rents Mod. Biol. 1 (1967), 39–46\n",
    "\n",
    "[2] Rain, J. C., Selig, L., De Reuse, H., Battaglia, V., Reverdy, C., Simon, S., ... & Chemama, Y. (2001). The protein–protein interaction map of Helicobacter pylori. Nature, 409(6817), 211-215.\n",
    "\n",
    "[3] Giot, L., Bader, J. S., Brouwer, C., Chaudhuri, A., Kuang, B., Li, Y., ... & Vijayadamodar, G. (2003). A protein interaction map of Drosophila melanogaster. science, 302(5651), 1727-1736.\n",
    "\n",
    "[4] Carninci, P., Kasukawa, T., Katayama, S., Gough, J., Frith, M. C., Maeda, N., ... & Kodzius, R. (2005). The transcriptional landscape of the mammalian genome. science, 309(5740), 1559-1563.\n",
    "\n",
    "[5] Linding, R., Jensen, L. J., Pasculescu, A., Olhovsky, M., Colwill, K., Bork, P., ... & Pawson, T. (2007). NetworKIN: a resource for exploring cellular phosphorylation networks. Nucleic acids research, 36(suppl_1), D695-D699.\n",
    "\n",
    "[6] Zou, M., & Conzen, S. D. (2005). A new dynamic Bayesian network (DBN) approach for identifying gene regulatory networks from time course microarray data. Bioinformatics, 21(1), 71-79.\n",
    "\n",
    "[7] Jeong, H., Tombor, B., Albert, R., Oltvai, Z. N., & Barabási, A. L. (2000). The large-scale organization of metabolic networks. Nature, 407(6804), 651-654."
   ]
  },
  {
   "cell_type": "code",
   "execution_count": null,
   "metadata": {},
   "outputs": [],
   "source": []
  }
 ],
 "metadata": {
  "kernelspec": {
   "display_name": "Python 3",
   "language": "python",
   "name": "python3"
  },
  "language_info": {
   "codemirror_mode": {
    "name": "ipython",
    "version": 3
   },
   "file_extension": ".py",
   "mimetype": "text/x-python",
   "name": "python",
   "nbconvert_exporter": "python",
   "pygments_lexer": "ipython3",
   "version": "3.7.4"
  }
 },
 "nbformat": 4,
 "nbformat_minor": 2
}
