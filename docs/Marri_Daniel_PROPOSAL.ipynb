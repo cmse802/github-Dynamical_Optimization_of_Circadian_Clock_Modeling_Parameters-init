{
 "cells": [
  {
   "cell_type": "markdown",
   "metadata": {},
   "source": [
    "# <center>  Dynamical Optimization of Circadian Clock Modeling Parameters  </center>\n",
    "\n",
    "<center>By \"Daniel Kwabena Marri\"</center>"
   ]
  },
  {
   "cell_type": "markdown",
   "metadata": {},
   "source": [
    "![](images/CIRCADIAN.png)\n",
    "\n",
    "<center>  The wirring diagram of the circadian clock network  <center>\n",
    "\n",
    "\n",
    "Image from: Drew this image myself."
   ]
  },
  {
   "cell_type": "markdown",
   "metadata": {},
   "source": [
    "# PROPOSAL OVERVIEW"
   ]
  },
  {
   "cell_type": "markdown",
   "metadata": {},
   "source": [
    "Environmental changes that accompany the day becoming so\n",
    "predictable, nature devised an ingenious system: the circadian clock, to anticipate them and\n",
    "regulate physiology and behavior accordingly in organisms. These clocks generate cellular\n",
    "rhythms known as the circadian rhythms which is responsible for hormone release, digestion,\n",
    "body temperature, and other physical activities such as sleep-wake, feeding to specific times of\n",
    "the day. The cellular regulatory network of circadian clocks involves several genes and proteins,\n",
    "and relies on multiple interactions, transcriptional as well as posttranslational. This feedback\n",
    "loop is thought to drive complex physiological rhythms such as daily oscillations in blood\n",
    "pressure and metabolism through rhythmic transcription of output genes downstream of the core\n",
    "circadian clock.\n",
    "\n",
    "I have been able to develop a mathematical model  to study the circadian clock gene network. Identifying and assembling relevant information, key interactions and connections between the clock gene network was achieved from literature [Cox and Takahashi, 2019, Ko and Takahashi, 2006]. Five protein codding known clock genes were used in developing this model. For simplicity, we do not distinguished between the mutations in theses genes. Example Per1, Per2 and Per3 are represented by a single Per gene. The same principle applies to\n",
    "the proteins and respective protein complexes,. The gene network used in developing this model are Per, Cry, Ror, Rev-erb and Bmal1. This model emphasis on the grouping of the gene network into  Activators and Repressors. The Per, Cry, and  Rev-erb genes as the repressors and the Ror, and Bmal1 genes as the activators. The interactions and connections between these gene network was then transformed to a wiring diagram that consist of  two main dependent feedback loops: Per-Cry negative feedback loop and the Ror, Rev-erb, Bmal1 loop.\n",
    "\n",
    "\n",
    "The circadian core clock network was translated into a system of 23 ordinary differential equations(ODEs) with\n",
    "90 parameters. Law of mass action and linear degradation kinetics were mostly used in deriving the system\n",
    "of ordinary differential equations(ODEs) in order to avoid the complexity of our model [Gaffney et al., 2008].\n",
    "Several models mostly incorporate the usage of Michealis-Menten degradation kinetics allowing smaller Hill\n",
    "coefficients. The Michealis-Menten degradation kinetics consider more parameters and does increase the complexity of the model [Leloup and Goldbeter, 2003]. Nonlinearities were introduced in our model to describe the\n",
    "transcription reaction of all the genes by the use of Michealis-Menten and Hill coefficient [Chou, 1976].\n",
    "\n",
    "\n",
    "In this project I plan to examine the properties and dynamics of some key parameter values of the model. 20 parameter values comprising of the transcription rate, mRNA’s degradation rate, translation rates, the post-translation rates : such as protein–protein interaction, subnuclear localization, (the association and dissociation of\n",
    "BMAL & CLOCK protein to form the activator transcription factor, the association and dissociation of CLOCK/BMAL\n",
    "& PER-CRY to induce the activities the transcription factor) would be optimized to understand their sensitivity to the model and how each of these group of parameters affect the dynamics of the model.\n",
    "\n",
    "\n",
    "\n",
    "\n",
    "\n"
   ]
  },
  {
   "cell_type": "markdown",
   "metadata": {},
   "source": [
    "# Program Description"
   ]
  },
  {
   "cell_type": "markdown",
   "metadata": {},
   "source": [
    "Several current models had successfully captured the essential dynamic behavior of the circadian clock system mainly\n",
    "with transcriptional regulation of the gene networks involved in the model. The 80 parameter values (excluding the Hill\n",
    "coefficients.) in the model were fit to get the dynamics of the circadian clock system. The fitness functions explored\n",
    "to derive these parameters were; Sustained Oscillation, Period (23.5 - 24.5 hrs) and phase relationships between the\n",
    "gene network. Parameters were chosen within realistic ranges and from literature, these parameters were tuned to fit\n",
    "the model [Relógio et al., 2011, Leloup and Goldbeter, 2004] These parameters were estimated and tuned manually to\n",
    "fit the dynamics of the circadian clock taken into consideration the Sustained Oscillation, Period (23.5 - 24.5 hrs) and\n",
    "phase relationships between the gene network. I intend to use MatLab to optimize 20 parameter values comprising of the transcription rate, mRNA’s degradation rate, translation rates, the post-translation rates : such as protein–protein interaction, subnuclear localization, (the association and dissociation of BMAL & CLOCK protein to form the activator transcription factor, the association and dissociation of CLOCK/BMAL & PER-CRY to induce the activities the transcription factor) to understand the properties and biologigal significants of these parameters. This is because my model was built in MatLab. "
   ]
  },
  {
   "cell_type": "markdown",
   "metadata": {},
   "source": [
    "# Project Goals and Timeline"
   ]
  },
  {
   "cell_type": "markdown",
   "metadata": {},
   "source": [
    "Project goals\n",
    "------------------\n",
    "\n",
    "Short term: For the start, I am planning to modify the non-linear least square algorithm bassed on the fminsearch function in MatLab to understand the properties and dynamics of the 20 parameters. \n",
    "\n",
    "Long term: For the long term, I plan to write and optimization algorithm in MatLab with the cost fuction taking into consideration the fitness functions (Sustained Oscillation, Period (23.5 - 24.5 hrs) and phase relationships between the\n",
    "gene network) used in the model.\n",
    "\n",
    "\n",
    "\n",
    "Timeline:\n",
    "\n",
    " \n",
    "- 9/25/2020 - Proposal Due\n",
    "- 10/02/2020 - Project git repository and structure is done\n",
    "- 10/09/2020 - Start optimization codding in matlab using the inbuilt functions\n",
    "- 10/23/2020 - Finish and clean up optimization code in matlab using the inbuilt functions\n",
    "- 10/30/2020 - Start Coding for the optimization algorithm to with cost function to incorporate the fitness function\n",
    "- 11/20/2020 - Finish and clean up Code\n",
    "- 12/04/2020 - Presentation Video Due\n",
    "- 12/09/2020 - Final Report and Code due.\n",
    "\n",
    " \n",
    "\n"
   ]
  },
  {
   "cell_type": "markdown",
   "metadata": {},
   "source": [
    "# Anticipating Challenges  "
   ]
  },
  {
   "cell_type": "markdown",
   "metadata": {},
   "source": [
    "There are a lot of biological systems that I need to learn to be able to represent them in a mathematical way. Thus consturcting the cost function for the phase relationship and the period of the system, I need to figure out how the algorithm will be able to understand the flexibility of these functions. The system I am working with is a complex system and this is my first time dealing with Optimization in MatLab so I am not gonna have it on a silver platter."
   ]
  },
  {
   "cell_type": "code",
   "execution_count": null,
   "metadata": {},
   "outputs": [],
   "source": []
  }
 ],
 "metadata": {
  "kernelspec": {
   "display_name": "Python 3",
   "language": "python",
   "name": "python3"
  },
  "language_info": {
   "codemirror_mode": {
    "name": "ipython",
    "version": 3
   },
   "file_extension": ".py",
   "mimetype": "text/x-python",
   "name": "python",
   "nbconvert_exporter": "python",
   "pygments_lexer": "ipython3",
   "version": "3.7.3"
  }
 },
 "nbformat": 4,
 "nbformat_minor": 2
}
